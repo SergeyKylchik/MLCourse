{
 "cells": [
  {
   "cell_type": "markdown",
   "metadata": {},
   "source": [
    "## __Homework_1__"
   ]
  },
  {
   "cell_type": "code",
   "execution_count": 1,
   "metadata": {},
   "outputs": [],
   "source": [
    "class Test:\n",
    "    @staticmethod\n",
    "    def assert_equals(a, b, *args, **kwargs):\n",
    "        assert a == b\n",
    "        print('Passed')"
   ]
  },
  {
   "cell_type": "markdown",
   "metadata": {},
   "source": [
    "Problem 1  https://edabit.com/challenge/rZToTkR5eB9Zn4zLh (1 point)"
   ]
  },
  {
   "cell_type": "code",
   "execution_count": 2,
   "metadata": {},
   "outputs": [],
   "source": [
    "def addition(a, b):\n",
    "    return a+b"
   ]
  },
  {
   "cell_type": "code",
   "execution_count": 3,
   "metadata": {},
   "outputs": [
    {
     "name": "stdout",
     "output_type": "stream",
     "text": [
      "Passed\n",
      "Passed\n",
      "Passed\n"
     ]
    }
   ],
   "source": [
    "Test.assert_equals(addition(2,3), 5)\n",
    "Test.assert_equals(addition(-3,-6), -9)\n",
    "Test.assert_equals(addition(7,3), 10)"
   ]
  },
  {
   "cell_type": "markdown",
   "metadata": {},
   "source": [
    "Problem 2 https://edabit.com/challenge/8q54MKnRrm89pSLmW (1 point)"
   ]
  },
  {
   "cell_type": "code",
   "execution_count": 4,
   "metadata": {},
   "outputs": [],
   "source": [
    "def convert(minutes):\n",
    "    return 60*minutes"
   ]
  },
  {
   "cell_type": "code",
   "execution_count": 6,
   "metadata": {},
   "outputs": [
    {
     "name": "stdout",
     "output_type": "stream",
     "text": [
      "Passed\n",
      "Passed\n",
      "Passed\n",
      "Passed\n"
     ]
    }
   ],
   "source": [
    "Test.assert_equals(convert(6), 360)\n",
    "Test.assert_equals(convert(4), 240)\n",
    "Test.assert_equals(convert(8), 480)\n",
    "Test.assert_equals(convert(60), 3600)"
   ]
  },
  {
   "cell_type": "markdown",
   "metadata": {},
   "source": [
    "Problem 3 https://edabit.com/challenge/NAQhEoxbofPidLxm9 (1 point)"
   ]
  },
  {
   "cell_type": "code",
   "execution_count": 7,
   "metadata": {},
   "outputs": [],
   "source": [
    "def addition(x):\n",
    "    return x+1"
   ]
  },
  {
   "cell_type": "code",
   "execution_count": 8,
   "metadata": {},
   "outputs": [
    {
     "name": "stdout",
     "output_type": "stream",
     "text": [
      "Passed\n",
      "Passed\n",
      "Passed\n",
      "Passed\n",
      "Passed\n"
     ]
    }
   ],
   "source": [
    "Test.assert_equals(addition(2), 3, \"2 plus 1 equals 3.\")\n",
    "Test.assert_equals(addition(-9), -8, \"-8 plus 1 equals -9.\")\n",
    "Test.assert_equals(addition(0), 1, \"0 plus 1 equals 1.\")\n",
    "Test.assert_equals(addition(999), 1000, \"999 plus 1 equals 1000.\")\n",
    "Test.assert_equals(addition(73), 74, \"73 plus 1 equals 74.\")"
   ]
  },
  {
   "cell_type": "markdown",
   "metadata": {},
   "source": [
    "Problem 4 https://edabit.com/challenge/3CaszbdZYGN4otQD8 (1 point)"
   ]
  },
  {
   "cell_type": "code",
   "execution_count": 9,
   "metadata": {},
   "outputs": [],
   "source": [
    "def triArea(l,h):\n",
    "    return 1/2 *l*h  "
   ]
  },
  {
   "cell_type": "code",
   "execution_count": 10,
   "metadata": {},
   "outputs": [
    {
     "name": "stdout",
     "output_type": "stream",
     "text": [
      "Passed\n",
      "Passed\n",
      "Passed\n",
      "Passed\n",
      "Passed\n"
     ]
    }
   ],
   "source": [
    "Test.assert_equals(triArea(3, 2), 3)\n",
    "Test.assert_equals(triArea(5, 4), 10)\n",
    "Test.assert_equals(triArea(10, 10), 50)\n",
    "Test.assert_equals(triArea(0, 60), 0)\n",
    "Test.assert_equals(triArea(12, 11), 66)"
   ]
  },
  {
   "cell_type": "markdown",
   "metadata": {},
   "source": [
    "Problem 5 https://edabit.com/challenge/rvsvGvqZ3BzNieKqA (2 points)"
   ]
  },
  {
   "cell_type": "code",
   "execution_count": 13,
   "metadata": {},
   "outputs": [],
   "source": [
    "def detect_word(string):\n",
    "    outString = \"\"\n",
    "    for letter in string:\n",
    "        if letter.islower() == True:\n",
    "            outString += letter\n",
    "    return outString"
   ]
  },
  {
   "cell_type": "code",
   "execution_count": 14,
   "metadata": {},
   "outputs": [
    {
     "name": "stdout",
     "output_type": "stream",
     "text": [
      "Passed\n",
      "Passed\n",
      "Passed\n",
      "Passed\n",
      "Passed\n",
      "Passed\n",
      "Passed\n",
      "Passed\n",
      "Passed\n",
      "Passed\n",
      "Passed\n",
      "Passed\n",
      "Passed\n",
      "Passed\n",
      "Passed\n",
      "Passed\n",
      "Passed\n",
      "Passed\n",
      "Passed\n",
      "Passed\n",
      "Passed\n",
      "Passed\n",
      "Passed\n",
      "Passed\n",
      "Passed\n",
      "Passed\n",
      "Passed\n",
      "Passed\n",
      "Passed\n",
      "Passed\n",
      "Passed\n",
      "Passed\n",
      "Passed\n",
      "Passed\n",
      "Passed\n",
      "Passed\n",
      "Passed\n",
      "Passed\n",
      "Passed\n",
      "Passed\n",
      "Passed\n",
      "Passed\n",
      "Passed\n",
      "Passed\n",
      "Passed\n",
      "Passed\n",
      "Passed\n",
      "Passed\n",
      "Passed\n",
      "Passed\n",
      "Passed\n",
      "Passed\n",
      "Passed\n"
     ]
    }
   ],
   "source": [
    "Test.assert_equals(detect_word(\"UcUNFYGaFYFYGtNUH\"), \"cat\")\n",
    "Test.assert_equals(detect_word(\"bEEFGBuFBRrHgUHlNFYaYr\"), \"burglar\")\n",
    "Test.assert_equals(detect_word(\"YFemHUFBbezFBYzFBYLleGBYEFGBMENTment\"), \"embezzlement\")\n",
    "Test.assert_equals(detect_word(\"cLXSNVVJVOJBIQRVKIZWKJOIVHXELVReLXSNVVJVOJBIQRVKIZWKJOIVHXELVRrLXSNVVJVOJBIQRVKIZWKJOIVHXELVRtLXSNVVJVOJBIQRVKIZWKJOIVHXELVRaLXSNVVJVOJBIQRVKIZWKJOIVHXELVRiLXSNVVJVOJBIQRVKIZWKJOIVHXELVRn\"), \"certain\")\n",
    "Test.assert_equals(detect_word(\"cUEOYCSUXVOaUEOYCSUXVOt\"), \"cat\")\n",
    "Test.assert_equals(detect_word(\"vJAQSZNYRQTFUHDHSDMBDPUNFQJXSXeJAQSZNYRQTFUHDHSDMBDPUNFQJXSXgJAQSZNYRQTFUHDHSDMBDPUNFQJXSXeJAQSZNYRQTFUHDHSDMBDPUNFQJXSXtJAQSZNYRQTFUHDHSDMBDPUNFQJXSXaJAQSZNYRQTFUHDHSDMBDPUNFQJXSXbJAQSZNYRQTFUHDHSDMBDPUNFQJXSXlJAQSZNYRQTFUHDHSDMBDPUNFQJXSXe\"), \"vegetable\")\n",
    "Test.assert_equals(detect_word(\"dATIQTJLBZFHSRXWOZQMOKZPANOUGMeATIQTJLBZFHSRXWOZQMOKZPANOUGMlATIQTJLBZFHSRXWOZQMOKZPANOUGMiATIQTJLBZFHSRXWOZQMOKZPANOUGMgATIQTJLBZFHSRXWOZQMOKZPANOUGMhATIQTJLBZFHSRXWOZQMOKZPANOUGMt\"), \"delight\")\n",
    "Test.assert_equals(detect_word(\"pUBOKJGODIJBSXPMTODCGHATrUBOKJGODIJBSXPMTODCGHATiUBOKJGODIJBSXPMTODCGHATcUBOKJGODIJBSXPMTODCGHATeUBOKJGODIJBSXPMTODCGHATy\"), \"pricey\")\n",
    "Test.assert_equals(detect_word(\"sWRRKMVJVHHZTKAQTJUQDPKHSHPOYCnWRRKMVJVHHZTKAQTJUQDPKHSHPOYCaWRRKMVJVHHZTKAQTJUQDPKHSHPOYCkWRRKMVJVHHZTKAQTJUQDPKHSHPOYCe\"), \"snake\")\n",
    "Test.assert_equals(detect_word(\"aJULRJHMOVLEFVJZnJULRJHMOVLEFVJZgJULRJHMOVLEFVJZlJULRJHMOVLEFVJZe\"), \"angle\")\n",
    "Test.assert_equals(detect_word(\"aJWCHXONGQCXGPXLZQBKEIHZWwJWCHXONGQCXGPXLZQBKEIHZWaJWCHXONGQCXGPXLZQBKEIHZWrJWCHXONGQCXGPXLZQBKEIHZWe\"), \"aware\")\n",
    "Test.assert_equals(detect_word(\"nNUZKGKNEVZBPQZQQLHZZPaNUZKGKNEVZBPQZQQLHZZPmNUZKGKNEVZBPQZQQLHZZPe\"), \"name\")\n",
    "Test.assert_equals(detect_word(\"cLBFKXYQFLLElLBFKXYQFLLEeLBFKXYQFLLEvLBFKXYQFLLEeLBFKXYQFLLEr\"), \"clever\")\n",
    "Test.assert_equals(detect_word(\"bDUNEPWILKUFNTRGMBRSVGAABBFCCXErDUNEPWILKUFNTRGMBRSVGAABBFCCXEaDUNEPWILKUFNTRGMBRSVGAABBFCCXEsDUNEPWILKUFNTRGMBRSVGAABBFCCXEh\"), \"brash\")\n",
    "Test.assert_equals(detect_word(\"fXTTJVWFCHYZMaXTTJVWFCHYZMsXTTJVWFCHYZMt\"), \"fast\")\n",
    "Test.assert_equals(detect_word(\"dJYPHZIRXYOLDGAQUPHIZTXJOKNoJYPHZIRXYOLDGAQUPHIZTXJOKNwJYPHZIRXYOLDGAQUPHIZTXJOKNnJYPHZIRXYOLDGAQUPHIZTXJOKNtJYPHZIRXYOLDGAQUPHIZTXJOKNoJYPHZIRXYOLDGAQUPHIZTXJOKNwJYPHZIRXYOLDGAQUPHIZTXJOKNn\"), \"downtown\")\n",
    "Test.assert_equals(detect_word(\"pKICNUFWFNFORlKICNUFWFNFORaKICNUFWFNFORnKICNUFWFNFORtKICNUFWFNFORs\"), \"plants\")\n",
    "Test.assert_equals(detect_word(\"wLAXIBDWXVPRQOOQRRTOYRODLAQHiLAXIBDWXVPRQOOQRRTOYRODLAQHnLAXIBDWXVPRQOOQRRTOYRODLAQHdLAXIBDWXVPRQOOQRRTOYRODLAQHy\"), \"windy\")\n",
    "Test.assert_equals(detect_word(\"sELJQETMYLTDKXYNSSOISZFPMAtELJQETMYLTDKXYNSSOISZFPMAaELJQETMYLTDKXYNSSOISZFPMArELJQETMYLTDKXYNSSOISZFPMAt\"), \"start\")\n",
    "Test.assert_equals(detect_word(\"wQYKDHGMNYMKUHKDeQYKDHGMNYMKUHKDt\"), \"wet\")\n",
    "Test.assert_equals(detect_word(\"kVOJQJIFILEHVnVOJQJIFILEHViVOJQJIFILEHVfVOJQJIFILEHVe\"), \"knife\")\n",
    "Test.assert_equals(detect_word(\"nBKCXNIJYJSVDoBKCXNIJYJSVDtBKCXNIJYJSVDe\"), \"note\")\n",
    "Test.assert_equals(detect_word(\"bOEYZAJVFYUGXQWZXrOEYZAJVFYUGXQWZXuOEYZAJVFYUGXQWZXsOEYZAJVFYUGXQWZXh\"), \"brush\")\n",
    "Test.assert_equals(detect_word(\"tEMVSYRPYHSZRLJNOMTYRPREIHoEMVSYRPYHSZRLJNOMTYRPREIHoEMVSYRPYHSZRLJNOMTYRPREIHtEMVSYRPYHSZRLJNOMTYRPREIHhEMVSYRPYHSZRLJNOMTYRPREIHbEMVSYRPYHSZRLJNOMTYRPREIHrEMVSYRPYHSZRLJNOMTYRPREIHuEMVSYRPYHSZRLJNOMTYRPREIHsEMVSYRPYHSZRLJNOMTYRPREIHh\"), \"toothbrush\")\n",
    "Test.assert_equals(detect_word(\"sWRIQGRPNHQQPSIPRoWRIQGRPNHQQPSIPRgWRIQGRPNHQQPSIPRgWRIQGRPNHQQPSIPRy\"), \"soggy\")\n",
    "Test.assert_equals(detect_word(\"fRBODZACXIIXHZRGKJQMDLOONTlRBODZACXIIXHZRGKJQMDLOONToRBODZACXIIXHZRGKJQMDLOONTwRBODZACXIIXHZRGKJQMDLOONTeRBODZACXIIXHZRGKJQMDLOONTrRBODZACXIIXHZRGKJQMDLOONTs\"), \"flowers\")\n",
    "Test.assert_equals(detect_word(\"dPWUSQZDQIHANDHEQUZBLAULSoPWUSQZDQIHANDHEQUZBLAULSlPWUSQZDQIHANDHEQUZBLAULSl\"), \"doll\")\n",
    "Test.assert_equals(detect_word(\"aOGSREBZUHUEJYSSBUlOGSREBZUHUEJYSSBUoOGSREBZUHUEJYSSBUoOGSREBZUHUEJYSSBUf\"), \"aloof\")\n",
    "Test.assert_equals(detect_word(\"aGQEAESDQIBWRUTuGQEAESDQIBWRUTsGQEAESDQIBWRUTpGQEAESDQIBWRUTiGQEAESDQIBWRUTcGQEAESDQIBWRUTiGQEAESDQIBWRUToGQEAESDQIBWRUTuGQEAESDQIBWRUTs\"), \"auspicious\")\n",
    "Test.assert_equals(detect_word(\"mPVIWSNGHMXHaPVIWSNGHMXHrPVIWSNGHMXHkPVIWSNGHMXHePVIWSNGHMXHt\"), \"market\")\n",
    "Test.assert_equals(detect_word(\"dUMIHKRZLPJFAGUKPGXHiUMIHKRZLPJFAGUKPGXHlUMIHKRZLPJFAGUKPGXHiUMIHKRZLPJFAGUKPGXHgUMIHKRZLPJFAGUKPGXHeUMIHKRZLPJFAGUKPGXHnUMIHKRZLPJFAGUKPGXHt\"), \"diligent\")\n",
    "Test.assert_equals(detect_word(\"sPRTRRRETBCDTtPRTRRRETBCDTrPRTRRRETBCDTiPRTRRRETBCDTpPRTRRRETBCDTePRTRRRETBCDTd\"), \"striped\")\n",
    "Test.assert_equals(detect_word(\"mDKXCLZDVPRNMGGFGEOZoDKXCLZDVPRNMGGFGEOZoDKXCLZDVPRNMGGFGEOZn\"), \"moon\")\n",
    "Test.assert_equals(detect_word(\"aQQWPQYQEEDILHYDSGQAINQZWCABYcQQWPQYQEEDILHYDSGQAINQZWCABYcQQWPQYQEEDILHYDSGQAINQZWCABYoQQWPQYQEEDILHYDSGQAINQZWCABYuQQWPQYQEEDILHYDSGQAINQZWCABYnQQWPQYQEEDILHYDSGQAINQZWCABYt\"), \"account\")\n",
    "Test.assert_equals(detect_word(\"sJPUQNBZOQYREGGQSYPmJPUQNBZOQYREGGQSYPeJPUQNBZOQYREGGQSYPlJPUQNBZOQYREGGQSYPlJPUQNBZOQYREGGQSYPy\"), \"smelly\")\n",
    "Test.assert_equals(detect_word(\"iWHDAZIAOYUDTHYYCUNBXQnWHDAZIAOYUDTHYYCUNBXQk\"), \"ink\")\n",
    "Test.assert_equals(detect_word(\"mOMTJYOJTLFBKGMYISFQHiOMTJYOJTLFBKGMYISFQHsOMTJYOJTLFBKGMYISFQHcOMTJYOJTLFBKGMYISFQHrOMTJYOJTLFBKGMYISFQHeOMTJYOJTLFBKGMYISFQHaOMTJYOJTLFBKGMYISFQHnOMTJYOJTLFBKGMYISFQHt\"), \"miscreant\")\n",
    "Test.assert_equals(detect_word(\"qFEUYWIKGXCZVXOPZKOBCKHEBuFEUYWIKGXCZVXOPZKOBCKHEBiFEUYWIKGXCZVXOPZKOBCKHEBxFEUYWIKGXCZVXOPZKOBCKHEBoFEUYWIKGXCZVXOPZKOBCKHEBtFEUYWIKGXCZVXOPZKOBCKHEBiFEUYWIKGXCZVXOPZKOBCKHEBc\"), \"quixotic\")\n",
    "Test.assert_equals(detect_word(\"dXKIIKPMULMUIDCSOFTJrXKIIKPMULMUIDCSOFTJaXKIIKPMULMUIDCSOFTJcXKIIKPMULMUIDCSOFTJoXKIIKPMULMUIDCSOFTJnXKIIKPMULMUIDCSOFTJiXKIIKPMULMUIDCSOFTJaXKIIKPMULMUIDCSOFTJn\"), \"draconian\")\n",
    "Test.assert_equals(detect_word(\"cVBMNIAWBKZCBuVBMNIAWBKZCBrVBMNIAWBKZCBiVBMNIAWBKZCBoVBMNIAWBKZCBuVBMNIAWBKZCBs\"), \"curious\")\n",
    "Test.assert_equals(detect_word(\"dWMZKRYZEXCEVEiWMZKRYZEXCEVEsWMZKRYZEXCEVEtWMZKRYZEXCEVEuWMZKRYZEXCEVErWMZKRYZEXCEVEbWMZKRYZEXCEVEeWMZKRYZEXCEVEd\"), \"disturbed\")\n",
    "Test.assert_equals(detect_word(\"lJMDJPLYPPJTAPOSeJMDJPLYPPJTAPOSaJMDJPLYPPJTAPOSn\"), \"lean\")\n",
    "Test.assert_equals(detect_word(\"gDTWSJJAFFHHMNMPXTAWKQOVrDTWSJJAFFHHMNMPXTAWKQOVoDTWSJJAFFHHMNMPXTAWKQOVuDTWSJJAFFHHMNMPXTAWKQOVcDTWSJJAFFHHMNMPXTAWKQOVhDTWSJJAFFHHMNMPXTAWKQOVy\"), \"grouchy\")\n",
    "Test.assert_equals(detect_word(\"aNHHJIPROAMxNHHJIPROAMiNHHJIPROAMoNHHJIPROAMmNHHJIPROAMaNHHJIPROAMtNHHJIPROAMiNHHJIPROAMc\"), \"axiomatic\")\n",
    "Test.assert_equals(detect_word(\"tXBGCUQSBNTSGZMAVNNIYOVVVAZOQKeXBGCUQSBNTSGZMAVNNIYOVVVAZOQKnXBGCUQSBNTSGZMAVNNIYOVVVAZOQKuXBGCUQSBNTSGZMAVNNIYOVVVAZOQKoXBGCUQSBNTSGZMAVNNIYOVVVAZOQKuXBGCUQSBNTSGZMAVNNIYOVVVAZOQKs\"), \"tenuous\")\n",
    "Test.assert_equals(detect_word(\"yVBNHOPAMPHUKGZJFATSHCZAeVBNHOPAMPHUKGZJFATSHCZAaVBNHOPAMPHUKGZJFATSHCZAr\"), \"year\")\n",
    "Test.assert_equals(detect_word(\"gNWUOMXIDOFQLKrNWUOMXIDOFQLKaNWUOMXIDOFQLKb\"), \"grab\")\n",
    "Test.assert_equals(detect_word(\"bTVORYGRQELJJOQKZWIENrTVORYGRQELJJOQKZWIENoTVORYGRQELJJOQKZWIENtTVORYGRQELJJOQKZWIENhTVORYGRQELJJOQKZWIENeTVORYGRQELJJOQKZWIENr\"), \"brother\")\n",
    "Test.assert_equals(detect_word(\"sYZYERJOTTELSPOSAMmYZYERJOTTELSPOSAMeYZYERJOTTELSPOSAMlYZYERJOTTELSPOSAMl\"), \"smell\")\n",
    "Test.assert_equals(detect_word(\"cCPHANPWHKQWLRFDBJOCKTBNUCFXeCPHANPWHKQWLRFDBJOCKTBNUCFXnCPHANPWHKQWLRFDBJOCKTBNUCFXt\"), \"cent\")\n",
    "Test.assert_equals(detect_word(\"rBZFHMFKHMKXEDMSuBZFHMFKHMKXEDMStBZFHMFKHMKXEDMShBZFHMFKHMKXEDMSlBZFHMFKHMKXEDMSeBZFHMFKHMKXEDMSsBZFHMFKHMKXEDMSs\"), \"ruthless\")\n",
    "Test.assert_equals(detect_word(\"pFGEMWBMWIHLPLVJFaFGEMWBMWIHLPLVJFnFGEMWBMWIHLPLVJFiFGEMWBMWIHLPLVJFcFGEMWBMWIHLPLVJFkFGEMWBMWIHLPLVJFy\"), \"panicky\")\n",
    "Test.assert_equals(detect_word(\"tIBIEPZZNNVJWMJNTUKRADYXWXZAeIBIEPZZNNVJWMJNTUKRADYXWXZAdIBIEPZZNNVJWMJNTUKRADYXWXZAiIBIEPZZNNVJWMJNTUKRADYXWXZAoIBIEPZZNNVJWMJNTUKRADYXWXZAuIBIEPZZNNVJWMJNTUKRADYXWXZAs\"), \"tedious\")"
   ]
  },
  {
   "cell_type": "markdown",
   "metadata": {},
   "source": [
    "Problem 6 https://edabit.com/challenge/8BtPaRSGwbhF57yie (2 points)"
   ]
  },
  {
   "cell_type": "code",
   "execution_count": 15,
   "metadata": {},
   "outputs": [],
   "source": [
    "def match_houses(step):\n",
    "    if step == 0:\n",
    "        return 0\n",
    "    else:\n",
    "        return 6 + 5*(step-1)"
   ]
  },
  {
   "cell_type": "code",
   "execution_count": 16,
   "metadata": {},
   "outputs": [
    {
     "name": "stdout",
     "output_type": "stream",
     "text": [
      "Passed\n",
      "Passed\n",
      "Passed\n",
      "Passed\n",
      "Passed\n",
      "Passed\n",
      "Passed\n",
      "Passed\n"
     ]
    }
   ],
   "source": [
    "Test.assert_equals(match_houses(1), 6)\n",
    "Test.assert_equals(match_houses(0), 0)\n",
    "Test.assert_equals(match_houses(17), 86)\n",
    "Test.assert_equals(match_houses(36), 181)\n",
    "Test.assert_equals(match_houses(15), 76)\n",
    "Test.assert_equals(match_houses(99), 496)\n",
    "Test.assert_equals(match_houses(3), 16)\n",
    "Test.assert_equals(match_houses(87), 436)"
   ]
  },
  {
   "cell_type": "markdown",
   "metadata": {},
   "source": [
    "Problem 7 https://edabit.com/challenge/4gzDuDkompAqujpRi (2 points)"
   ]
  },
  {
   "cell_type": "code",
   "execution_count": 19,
   "metadata": {},
   "outputs": [],
   "source": [
    "def add_up(num):\n",
    "    count = 1\n",
    "    summary = 0\n",
    "    while count <= num:\n",
    "        summary += count \n",
    "        count += 1\n",
    "    return summary"
   ]
  },
  {
   "cell_type": "code",
   "execution_count": 20,
   "metadata": {},
   "outputs": [
    {
     "name": "stdout",
     "output_type": "stream",
     "text": [
      "Passed\n",
      "Passed\n",
      "Passed\n",
      "Passed\n",
      "Passed\n",
      "Passed\n",
      "Passed\n",
      "Passed\n",
      "Passed\n",
      "Passed\n",
      "Passed\n",
      "Passed\n",
      "Passed\n",
      "Passed\n",
      "Passed\n"
     ]
    }
   ],
   "source": [
    "Test.assert_equals(add_up(4), 10)\n",
    "Test.assert_equals(add_up(13), 91)\n",
    "Test.assert_equals(add_up(600), 180300)\n",
    "Test.assert_equals(add_up(392), 77028)\n",
    "Test.assert_equals(add_up(53), 1431)\n",
    "Test.assert_equals(add_up(897), 402753)\n",
    "Test.assert_equals(add_up(23), 276)\n",
    "Test.assert_equals(add_up(1000), 500500)\n",
    "Test.assert_equals(add_up(738), 272691)\n",
    "Test.assert_equals(add_up(100), 5050)\n",
    "Test.assert_equals(add_up(925), 428275)\n",
    "Test.assert_equals(add_up(1), 1)\n",
    "Test.assert_equals(add_up(999), 499500)\n",
    "Test.assert_equals(add_up(175), 15400)\n",
    "Test.assert_equals(add_up(111), 6216)"
   ]
  },
  {
   "cell_type": "markdown",
   "metadata": {},
   "source": [
    "Problem 8 https://edabit.com/challenge/Rg26hsPPXXqpho3g2 (2 points)"
   ]
  },
  {
   "cell_type": "code",
   "execution_count": 22,
   "metadata": {},
   "outputs": [],
   "source": [
    "def which_is_larger(f, g):\n",
    "    if f() > g():\n",
    "        return \"f\"\n",
    "    elif f() == g():\n",
    "        return \"neither\"\n",
    "    else:\n",
    "        return \"g\"\n"
   ]
  },
  {
   "cell_type": "code",
   "execution_count": 23,
   "metadata": {},
   "outputs": [
    {
     "name": "stdout",
     "output_type": "stream",
     "text": [
      "Passed\n",
      "Passed\n",
      "Passed\n",
      "Passed\n",
      "Passed\n",
      "Passed\n",
      "Passed\n"
     ]
    }
   ],
   "source": [
    "Test.assert_equals(which_is_larger(lambda: 5, lambda: 10),'g')\n",
    "Test.assert_equals(which_is_larger(lambda: 10, lambda: 5),'f')\n",
    "Test.assert_equals(which_is_larger(lambda: 25, lambda: 25),'neither')\n",
    "Test.assert_equals(which_is_larger(lambda: -100, lambda: -100),'neither')\n",
    "Test.assert_equals(which_is_larger(lambda: -100, lambda: 0),'g')\n",
    "Test.assert_equals(which_is_larger(lambda: 505050, lambda: 5050),'f')\n",
    "Test.assert_equals(which_is_larger(lambda: 100, lambda: 1000),'g')"
   ]
  },
  {
   "cell_type": "markdown",
   "metadata": {},
   "source": [
    "Problem 9 https://edabit.com/challenge/y9Rans4Ry5oW74cat (2 points)"
   ]
  },
  {
   "cell_type": "code",
   "execution_count": 24,
   "metadata": {},
   "outputs": [],
   "source": [
    "def min_max(nums):\n",
    "    min_number = nums[0]\n",
    "    max_number = nums[0]\n",
    "    for number in nums:\n",
    "        if number < min_number:\n",
    "            min_number = number \n",
    "        if number > max_number:\n",
    "            max_number = number\n",
    "    return [min_number, max_number]"
   ]
  },
  {
   "cell_type": "code",
   "execution_count": 25,
   "metadata": {},
   "outputs": [
    {
     "name": "stdout",
     "output_type": "stream",
     "text": [
      "Passed\n",
      "Passed\n",
      "Passed\n",
      "Passed\n",
      "Passed\n",
      "Passed\n",
      "Passed\n"
     ]
    }
   ],
   "source": [
    "Test.assert_equals(min_max([14, 35, 6, 1, 34, 54]), [1, 54])\n",
    "Test.assert_equals(min_max([1.346, 1.6532, 1.8734, 1.8723]), [1.346, 1.8734])\n",
    "Test.assert_equals(min_max([0.432, 0.874, 0.523, 0.984, 0.327, 0.2345]), [0.2345, 0.984])\n",
    "Test.assert_equals(min_max([13, 72, 98, 43, 24, 65, 31]), [13, 98])\n",
    "Test.assert_equals(min_max([-54, -23, -54, -21]), [-54, -21])\n",
    "Test.assert_equals(min_max([-0.473, -0.6834, -0.1287, 0.5632]), [-0.6834, 0.5632])\n",
    "Test.assert_equals(min_max([0, 0, 0, 0]), [0, 0])"
   ]
  },
  {
   "cell_type": "markdown",
   "metadata": {},
   "source": [
    "Problem 10 https://edabit.com/challenge/wFpi2zFGxWxfj5mZS (3 points)"
   ]
  },
  {
   "cell_type": "code",
   "execution_count": 29,
   "metadata": {},
   "outputs": [],
   "source": [
    "def count_true(lst):\n",
    "    count = 0\n",
    "    for value in lst:\n",
    "        if value == True:\n",
    "            count += 1\n",
    "    return count"
   ]
  },
  {
   "cell_type": "code",
   "execution_count": 30,
   "metadata": {},
   "outputs": [
    {
     "name": "stdout",
     "output_type": "stream",
     "text": [
      "Passed\n",
      "Passed\n",
      "Passed\n",
      "Passed\n",
      "Passed\n",
      "Passed\n",
      "Passed\n",
      "Passed\n",
      "Passed\n",
      "Passed\n",
      "Passed\n",
      "Passed\n",
      "Passed\n"
     ]
    }
   ],
   "source": [
    "Test.assert_equals(count_true([True, False, False, True, False]), 2)\n",
    "Test.assert_equals(count_true([False, False, False, False]), 0)\n",
    "Test.assert_equals(count_true([]), 0)\n",
    "Test.assert_equals(count_true([False, False, True, True, False, False, False, True, True, True, True, False, True, True, False]), 8)\n",
    "Test.assert_equals(count_true([True, False, True, True, False, False, False, False, False]), 3)\n",
    "Test.assert_equals(count_true([False, True, True, False, True, True, False, True, False, True, False, True, False, True, False]), 8)\n",
    "Test.assert_equals(count_true([True, False, True, True, True, False, True, True, False, False]), 6)\n",
    "Test.assert_equals(count_true([False, False, False, False, True, False, True, False, True, False, False]), 3)\n",
    "Test.assert_equals(count_true([True, False, False, False, True, False, False, True, False, False, False]), 3)\n",
    "Test.assert_equals(count_true([True, True, False, True, False, False, False, False, True, False]), 4)\n",
    "Test.assert_equals(count_true([True, False, True, True, False, True, True, True, True, False, True, False, True, False]), 9)\n",
    "Test.assert_equals(count_true([True, False, True, True, True, True, False, True, True, False, True, False, False, False, False]), 8)\n",
    "Test.assert_equals(count_true([True, True, False, False, False, False, True, False, True, True, False, True]), 6)"
   ]
  },
  {
   "cell_type": "code",
   "execution_count": null,
   "metadata": {},
   "outputs": [],
   "source": []
  }
 ],
 "metadata": {
  "kernelspec": {
   "display_name": "Python 3",
   "language": "python",
   "name": "python3"
  },
  "language_info": {
   "codemirror_mode": {
    "name": "ipython",
    "version": 3
   },
   "file_extension": ".py",
   "mimetype": "text/x-python",
   "name": "python",
   "nbconvert_exporter": "python",
   "pygments_lexer": "ipython3",
   "version": "3.7.0"
  }
 },
 "nbformat": 4,
 "nbformat_minor": 2
}
